{
 "cells": [
  {
   "cell_type": "code",
   "execution_count": null,
   "metadata": {},
   "outputs": [],
   "source": [
    "import torch\n",
    "from transformers import GPT2Tokenizer, GPT2LMHeadModel, TrainingArguments, Trainer\n",
    "from sklearn.model_selection import train_test_split\n",
    "from datasets import load_dataset"
   ]
  },
  {
   "cell_type": "code",
   "execution_count": null,
   "metadata": {},
   "outputs": [],
   "source": [
    "print(torch.cuda.is_available())\n",
    "torch.cuda.init()\n",
    "device = torch.device(\"cuda\" if torch.cuda.is_available() else \"cpu\")\n",
    "print(device)"
   ]
  },
  {
   "cell_type": "code",
   "execution_count": null,
   "metadata": {},
   "outputs": [],
   "source": [
    "data_file_path = 'corpus/grimms/grimms.txt'\n",
    "data_train_file_path = 'corpus/grimms/grimms_train_data.txt'\n",
    "data_test_file_path = 'corpus/grimms/grimms_test_data.txt'\n",
    "\n",
    "gpt_models = ['distilgpt2', 'sshleifer/tiny-gpt2']\n",
    "gpt_model = 0\n",
    "tokenizer_max_length=1024\n",
    "needs_training = True"
   ]
  },
  {
   "cell_type": "code",
   "execution_count": null,
   "metadata": {},
   "outputs": [],
   "source": [
    "with open(data_file_path, 'r', encoding='utf-8') as file:\n",
    "    data = file.readlines()\n",
    "\n",
    "train_data, test_data = train_test_split(data, test_size=0.2, random_state=0)\n",
    "\n",
    "with open(data_train_file_path, 'w', encoding='utf-8') as file:\n",
    "    file.writelines(train_data)\n",
    "with open(data_test_file_path, 'w', encoding='utf-8') as file:\n",
    "    file.writelines(test_data)"
   ]
  },
  {
   "cell_type": "code",
   "execution_count": null,
   "metadata": {},
   "outputs": [],
   "source": [
    "from torch.utils.tensorboard import SummaryWriter\n",
    "\n",
    "writer = SummaryWriter(log_dir=\"./logs\")\n",
    "\n",
    "def custom_logging_callback(log_args):\n",
    "    global_step = log_args[\"global_step\"]\n",
    "    loss = log_args[\"loss\"]\n",
    "\n",
    "    # Log loss to TensorBoard\n",
    "    writer.add_scalar(\"Loss\", loss, global_step)"
   ]
  },
  {
   "cell_type": "code",
   "execution_count": null,
   "metadata": {},
   "outputs": [],
   "source": [
    "tokenizer = GPT2Tokenizer.from_pretrained(gpt_models[gpt_model])\n",
    "\n",
    "# Set the padding token\n",
    "tokenizer.pad_token = tokenizer.eos_token\n",
    "\n",
    "dataset = load_dataset('text', data_files={'train': data_train_file_path, 'test': data_test_file_path})\n",
    "# Tokenize the text data\n",
    "tokenized_datasets = dataset.map(lambda examples: tokenizer(examples['text'], padding='max_length', truncation=True, max_length=tokenizer_max_length, return_tensors='pt'), batched=True)\n",
    "\n",
    "# Generate labels from tokenized data\n",
    "def generate_labels(examples):\n",
    "    return {\"labels\": examples[\"input_ids\"]}\n",
    "\n",
    "tokenized_datasets = tokenized_datasets.map(generate_labels, batched=True)"
   ]
  },
  {
   "cell_type": "code",
   "execution_count": null,
   "metadata": {},
   "outputs": [],
   "source": [
    "# Initialize model and args\n",
    "model = GPT2LMHeadModel.from_pretrained(gpt_models[gpt_model])\n",
    "batch_multiplier = ((gpt_model + 1)**2)  # This is a mathy hack to adjust batch params depending on which of the two models are used\n",
    "\n",
    "training_args = TrainingArguments(\n",
    "    output_dir=\"./results\",          # Directory for saving model checkpoints and results\n",
    "    overwrite_output_dir=True,       # Overwrite the output directory if it exists\n",
    "    num_train_epochs=15,             # Number of training epochs\n",
    "    per_device_train_batch_size=4 * batch_multiplier,   # Batch size per device\n",
    "    gradient_accumulation_steps=8 * batch_multiplier,\n",
    "    per_device_eval_batch_size=4 * batch_multiplier,    # Batch size for evaluation per device\n",
    "    warmup_steps=50,               # Number of warmup steps for the learning rate scheduler\n",
    "    # save_steps=200,                 # Save model checkpoints every N steps\n",
    "    save_total_limit=10,             # Limit the number of saved checkpoints\n",
    "    evaluation_strategy=\"epoch\",    # Evaluation strategy (steps or epoch)\n",
    "    save_strategy=\"epoch\",\n",
    "    # eval_steps=200,                 # Evaluate every N steps\n",
    "    load_best_model_at_end=True,    # Load the best model checkpoint at the end of training\n",
    "    metric_for_best_model=\"eval_loss\",  # Metric to monitor for early stopping\n",
    "    logging_dir=\"./logs\",           # Directory for logs\n",
    "    logging_steps=100,              # Log metrics every N steps\n",
    "    log_level=\"info\",\n",
    "    report_to=\"tensorboard\",        # Report metrics to TensorBoard\n",
    "    run_name=\"run01\",          # Name of the run\n",
    "    # accelerator='ddp',\n",
    "    save_safetensors=True,\n",
    ")"
   ]
  },
  {
   "cell_type": "code",
   "execution_count": null,
   "metadata": {},
   "outputs": [],
   "source": [
    "# Train model\n",
    "torch.cuda.empty_cache()\n",
    "\n",
    "if needs_training:\n",
    "    trainer = Trainer(\n",
    "        model=model,\n",
    "        args=training_args,\n",
    "        train_dataset=tokenized_datasets[\"train\"],\n",
    "        eval_dataset=tokenized_datasets[\"test\"],\n",
    "        # callbacks=[custom_logging_callback],\n",
    "    )\n",
    "    \n",
    "    trainer.train()"
   ]
  },
  {
   "cell_type": "code",
   "execution_count": null,
   "metadata": {},
   "outputs": [],
   "source": [
    "# Run this to load the trained model and tokenizer if not autoloaded after training completion\n",
    "torch.cuda.empty_cache()\n",
    "model = GPT2LMHeadModel.from_pretrained(\"./results/checkpoint-237\")  # Path to your chosen checkpoint\n",
    "model = model.to('cuda')\n",
    "tokenizer = GPT2Tokenizer.from_pretrained(gpt_models[gpt_model])  # Use the same tokenizer as during training"
   ]
  },
  {
   "cell_type": "code",
   "execution_count": null,
   "metadata": {},
   "outputs": [],
   "source": [
    "# Input text for generating continuation\n",
    "prompts = [\"Once upon a time, a clever orphan stole a magic dagger from an evil wizard. The child ran into a haunted forest and \",\n",
    "           \"A very strange thing happened one day as the baker woke up and began her day. She saw outside that \"\n",
    "]\n",
    "\n",
    "temperature = 0.85\n",
    "\n",
    "# Initialize an empty list to store prompts, parameters, and answers\n",
    "prompt_params_answers = []\n",
    "\n",
    "# Iterate through each input text\n",
    "for prompt in prompts:  # Use the prompts list directly\n",
    "    # Tokenize the input text\n",
    "    input_ids = tokenizer.encode(prompt, return_tensors=\"pt\")\n",
    "    input_ids = input_ids.to('cuda')\n",
    "\n",
    "    # Generate text continuation\n",
    "    output = model.generate(\n",
    "        input_ids,\n",
    "        min_length=128,\n",
    "        max_length=256,\n",
    "        num_return_sequences=1,\n",
    "        pad_token_id=tokenizer.eos_token_id,\n",
    "        temperature=temperature,\n",
    "        do_sample=True,\n",
    "        no_repeat_ngram_size=10,  # Adjust the value as needed\n",
    "    )\n",
    "\n",
    "    # Decode and print the generated text\n",
    "    generated_text = tokenizer.decode(output[0], skip_special_tokens=True)\n",
    "\n",
    "    # Store the prompt, parameters, and generated answer as a tuple\n",
    "    prompt_params_answers.append((prompt, model.config, generated_text))\n",
    "\n",
    "# Define a file path to save the results\n",
    "file_path = \"prompt_answer_params.txt\"\n",
    "\n",
    "# Save the prompts, parameters, and answers to a file\n",
    "with open(file_path, \"a\", encoding=\"utf-8\") as file:\n",
    "    for prompt, params, answer in prompt_params_answers:\n",
    "        file.write(f\"Prompt:\\n{prompt}\\n\\n\"\n",
    "                    f\"Generated Answer:\\n{answer}\\n\\n\"\n",
    "                    f\"Model Parameters:\\n{params}\\n\\n\")\n",
    "        print(f\"{answer}\\n\")\n",
    "\n",
    "print(f\"Results saved to {file_path}\")"
   ]
  }
 ],
 "metadata": {
  "kernelspec": {
   "display_name": "base",
   "language": "python",
   "name": "python3"
  },
  "language_info": {
   "codemirror_mode": {
    "name": "ipython",
    "version": 3
   },
   "file_extension": ".py",
   "mimetype": "text/x-python",
   "name": "python",
   "nbconvert_exporter": "python",
   "pygments_lexer": "ipython3",
   "version": "3.11.5"
  }
 },
 "nbformat": 4,
 "nbformat_minor": 2
}
